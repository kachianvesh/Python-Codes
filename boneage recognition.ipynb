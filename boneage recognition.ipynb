{
  "nbformat": 4,
  "nbformat_minor": 0,
  "metadata": {
    "accelerator": "GPU",
    "colab": {
      "name": "Untitled23.ipynb",
      "provenance": [],
      "collapsed_sections": []
    },
    "kernelspec": {
      "display_name": "Python 3",
      "name": "python3"
    },
    "language_info": {
      "name": "python"
    }
  },
  "cells": [
    {
      "cell_type": "code",
      "metadata": {
        "colab": {
          "base_uri": "https://localhost:8080/"
        },
        "id": "41DGkQLQtasV",
        "outputId": "af070ac8-6a01-4b76-a9a0-4a76f083fed9"
      },
      "source": [
        "import keras as tf\n",
        "print(tf.__version__)"
      ],
      "execution_count": null,
      "outputs": [
        {
          "output_type": "stream",
          "name": "stdout",
          "text": [
            "2.8.0\n"
          ]
        }
      ]
    },
    {
      "cell_type": "code",
      "metadata": {
        "id": "qht-3oB_SG9l"
      },
      "source": [
        "import numpy as np\n",
        "import pandas as pd\n",
        "import seaborn as sns\n",
        "import matplotlib.pyplot as plt\n",
        "import matplotlib.image as mpimg\n",
        "from matplotlib.offsetbox import OffsetImage, AnnotationBbox\n",
        "from glob import glob\n",
        "from PIL import Image\n",
        "import os\n",
        "import random\n",
        "import cv2"
      ],
      "execution_count": null,
      "outputs": []
    },
    {
      "cell_type": "code",
      "metadata": {
        "id": "n5yXeBA7TSlu"
      },
      "source": [
        "import tensorflow as tf\n",
        "from tensorflow.keras.models import Sequential, Model,load_model\n",
        "from tensorflow.keras.layers import Activation,Dense, Dropout, Flatten, Conv2D, MaxPooling2D,MaxPool2D,AveragePooling2D,GlobalMaxPooling2D\n",
        "from tensorflow.keras import backend as K\n",
        "from tensorflow.keras.wrappers.scikit_learn import KerasClassifier\n",
        "from tensorflow.keras.layers import BatchNormalization\n",
        "from tensorflow.keras.utils import to_categorical # convert to one-hot-encoding\n",
        "from tensorflow.keras import regularizers\n",
        "from tensorflow.keras.optimizers import Adam, SGD\n",
        "from tensorflow.keras.preprocessing.image import ImageDataGenerator,array_to_img\n",
        "from tensorflow.keras.callbacks import ReduceLROnPlateau, EarlyStopping,ModelCheckpoint\n",
        "from tensorflow.keras.metrics import PrecisionAtRecall,Recall\n",
        "from sklearn.metrics import confusion_matrix, accuracy_score, precision_recall_fscore_support\n",
        "import tensorflow.math"
      ],
      "execution_count": null,
      "outputs": []
    },
    {
      "cell_type": "code",
      "metadata": {
        "colab": {
          "base_uri": "https://localhost:8080/"
        },
        "id": "GXE3OYUxTZhI",
        "outputId": "fbd29197-bd11-477d-879e-00b1e3efafa9"
      },
      "source": [
        "path = '/content/boneage-label.csv'\n",
        "\n",
        "classes = [\"id\", \"boneage\", \"male\"]\n",
        "num_classes = len(classes)\n",
        "batch_size = 16\n",
        "\n",
        "train_datagen = ImageDataGenerator(rescale=1./255,\n",
        "                                  rotation_range=20,\n",
        "                                  width_shift_range=0.2,\n",
        "                                  height_shift_range=0.2,\n",
        "                                  horizontal_flip=True, validation_split=0.2)\n",
        "\n",
        "test_datagen = ImageDataGenerator(rescale=1./255,\n",
        "                                 validation_split=0.2)\n",
        "\n",
        "train_gen = train_datagen.flow_from_directory(directory=path,\n",
        "                                             target_size=(299, 299),\n",
        "                                             class_mode='categorical',\n",
        "                                             subset='training',\n",
        "                                             shuffle=True, classes=classes,\n",
        "                                             batch_size=16,\n",
        "                                          )\n",
        "\n",
        "test_gen = test_datagen.flow_from_directory(directory=path,\n",
        "                                             target_size=(299, 299),\n",
        "                                             class_mode='categorical',\n",
        "                                             subset='validation',\n",
        "                                             shuffle=False, classes=classes,\n",
        "                                             batch_size=1,\n",
        "                                             )\n",
        "print(train_gen.class_indices)\n",
        "l=list(train_gen.classes)\n",
        "k=list(test_gen.classes)\n",
        "c1=0;c2=0;c3=0;c4=0;\n",
        "for i in l:\n",
        "  if i==0:\n",
        "    c1+=1\n",
        "  elif i==1:\n",
        "    c2+=1\n",
        "  elif i==2:\n",
        "    c3+=1\n",
        "  elif i==3:\n",
        "    c4+=1\n",
        "  else:\n",
        "    pass\n",
        "print(\"\\nTRAINING DATA\\n\")\n",
        "print(\"COVID SAMPLES  \"+str(c1))\n",
        "print(\"LUNG OPACITY SAMPLES  \"+str(c2))\n",
        "print(\"NORMAL SAMPLES  \"+str(c3))\n",
        "print(\"VIRAL PNEUMONIA SAMPLES  \"+str(c4))\n",
        "c1=0;c2=0;c3=0;c4=0;\n",
        "for i in k:\n",
        "  if i==0:\n",
        "    c1+=1\n",
        "  elif i==1:\n",
        "    c2+=1\n",
        "  elif i==2:\n",
        "    c3+=1\n",
        "  elif i==3:\n",
        "    c4+=1\n",
        "  else:\n",
        "    pass\n",
        "print(\"\\nTEST DATA\\n\")\n",
        "print(\"id  \"+str(c1))\n",
        "print(\"boneage  \"+str(c2))\n",
        "print(\"gender  \"+str(c3))\n",
        "\n",
        "print(test_gen.classes[0])\n",
        "'''for i in range(train_gen.__len__()):\n",
        "   a,b=train_gen.next()\n",
        "   x.append(a)\n",
        "   y.append(b)\n",
        "x=np.array(x)\n",
        "y=np.array(y)\n",
        "print(x.shape)\n",
        "print(y.shape)'''\n",
        "train_labels=train_gen.classes\n",
        "test_labels=test_gen.classes\n",
        "print(train_labels)\n"
      ],
      "execution_count": null,
      "outputs": [
        {
          "output_type": "stream",
          "name": "stdout",
          "text": [
            "Found 33824 images belonging to 4 classes.\n",
            "Found 8452 images belonging to 4 classes.\n",
            "{'COVID': 0, 'Lung_Opacity': 1, 'Normal': 2, 'Viral Pneumonia': 3}\n",
            "\n",
            "TRAINING DATA\n",
            "\n",
            "COVID SAMPLES  8456\n",
            "LUNG OPACITY SAMPLES  8456\n",
            "NORMAL SAMPLES  8456\n",
            "VIRAL PNEUMONIA SAMPLES  8456\n",
            "\n",
            "TEST DATA\n",
            "\n",
            "COVID SAMPLES  2113\n",
            "LUNG OPACITY SAMPLES  2113\n",
            "NORMAL SAMPLES  2113\n",
            "VIRAL PNEUMONIA SAMPLES  2113\n",
            "0\n",
            "[0 0 0 ... 3 3 3]\n"
          ]
        }
      ]
    },
    {
      "cell_type": "code",
      "metadata": {
        "colab": {
          "base_uri": "https://localhost:8080/"
        },
        "id": "tApbTSlqrXyM",
        "outputId": "d91bec36-edb4-4649-f531-dda67963411a"
      },
      "source": [
        "print(len((test_gen[0])[1]))"
      ],
      "execution_count": null,
      "outputs": [
        {
          "name": "stdout",
          "output_type": "stream",
          "text": [
            "1\n"
          ]
        }
      ]
    },
    {
      "cell_type": "code",
      "metadata": {
        "colab": {
          "base_uri": "https://localhost:8080/",
          "height": 35
        },
        "id": "1KoQY__vozdb",
        "outputId": "911c3e4e-1b45-4be9-b270-c31b885ece10"
      },
      "source": [
        "from sklearn.metrics import classification_report\n"
      ],
      "execution_count": null,
      "outputs": [
        {
          "data": {
            "application/vnd.google.colaboratory.intrinsic+json": {
              "type": "string"
            },
            "text/plain": [
              "'for pred in preds:\\n  preds_list.append(np.argmax(pred))'"
            ]
          },
          "execution_count": 14,
          "metadata": {},
          "output_type": "execute_result"
        }
      ]
    },
    {
      "cell_type": "code",
      "metadata": {
        "id": "XjqsOuGVyFok"
      },
      "source": [
        "from sklearn.metrics import classification_report, confusion_matrix, accuracy_score, recall_score, f1_score, precision_score\n",
        "import seaborn as sns\n"
      ],
      "execution_count": null,
      "outputs": []
    },
    {
      "cell_type": "code",
      "metadata": {
        "id": "WNSl5ip_yGBw"
      },
      "source": [
        "from tensorflow.keras.layers import Input, Lambda, Dense, Flatten\n",
        "from tensorflow.keras.models import Model\n",
        "from tensorflow.keras.applications.vgg16 import VGG16\n",
        "from tensorflow.keras.applications.vgg19 import VGG19\n",
        "from tensorflow.keras.preprocessing import image\n",
        "from tensorflow.keras.preprocessing.image import ImageDataGenerator,load_img\n",
        "from tensorflow.keras.models import Sequential\n",
        "import numpy as np\n",
        "from glob import glob"
      ],
      "execution_count": null,
      "outputs": []
    },
    {
      "cell_type": "code",
      "metadata": {
        "id": "6KVRd1QFDD_w"
      },
      "source": [
        "import datetime\n",
        "import pandas as pd\n",
        "import matplotlib\n",
        "import matplotlib.pyplot as plt\n",
        "%matplotlib inline\n",
        "matplotlib.rcParams['font.size'] = 8\n",
        "import tensorflow as tf\n",
        "\n",
        "import warnings\n",
        "warnings.simplefilter('ignore')\n",
        "import numpy as np \n",
        "from tqdm import tqdm\n",
        "import cv2\n",
        "import os\n",
        "import shutil\n",
        "import itertools\n",
        "import imutils\n",
        "import matplotlib.pyplot as plt\n",
        "from sklearn.preprocessing import LabelBinarizer\n",
        "from sklearn.model_selection import train_test_split\n",
        "from sklearn.metrics import accuracy_score, confusion_matrix\n",
        "\n",
        "import plotly.graph_objs as go\n",
        "from plotly.offline import init_notebook_mode, iplot\n",
        "from plotly import tools\n",
        "\n",
        "from keras.preprocessing.image import ImageDataGenerator\n",
        "from keras.applications.vgg16 import VGG16, preprocess_input\n",
        "from keras import layers\n",
        "from keras.models import Model, Sequential\n",
        "from keras.callbacks import EarlyStopping"
      ],
      "execution_count": null,
      "outputs": []
    },
    {
      "cell_type": "code",
      "metadata": {
        "colab": {
          "base_uri": "https://localhost:8080/"
        },
        "id": "N47IGnGKGeEN",
        "outputId": "8fec4df2-b825-4b7d-d876-3345275490e4"
      },
      "source": [
        "!nvidia-smi"
      ],
      "execution_count": null,
      "outputs": [
        {
          "output_type": "stream",
          "name": "stdout",
          "text": [
            "Fri Nov 12 03:54:11 2021       \n",
            "+-----------------------------------------------------------------------------+\n",
            "| NVIDIA-SMI 495.44       Driver Version: 460.32.03    CUDA Version: 11.2     |\n",
            "|-------------------------------+----------------------+----------------------+\n",
            "| GPU  Name        Persistence-M| Bus-Id        Disp.A | Volatile Uncorr. ECC |\n",
            "| Fan  Temp  Perf  Pwr:Usage/Cap|         Memory-Usage | GPU-Util  Compute M. |\n",
            "|                               |                      |               MIG M. |\n",
            "|===============================+======================+======================|\n",
            "|   0  Tesla K80           Off  | 00000000:00:04.0 Off |                    0 |\n",
            "| N/A   51C    P8    30W / 149W |      0MiB / 11441MiB |      0%      Default |\n",
            "|                               |                      |                  N/A |\n",
            "+-------------------------------+----------------------+----------------------+\n",
            "                                                                               \n",
            "+-----------------------------------------------------------------------------+\n",
            "| Processes:                                                                  |\n",
            "|  GPU   GI   CI        PID   Type   Process name                  GPU Memory |\n",
            "|        ID   ID                                                   Usage      |\n",
            "|=============================================================================|\n",
            "|  No running processes found                                                 |\n",
            "+-----------------------------------------------------------------------------+\n"
          ]
        }
      ]
    },
    {
      "cell_type": "code",
      "metadata": {
        "id": "WqGfX-TQtUvn"
      },
      "source": [
        "from sklearn.model_selection import cross_val_score\n",
        "from keras.wrappers.scikit_learn import KerasClassifier"
      ],
      "execution_count": null,
      "outputs": []
    },
    {
      "cell_type": "code",
      "metadata": {
        "id": "aEnnkCRFoh4D"
      },
      "source": [
        "from sklearn.model_selection import KFold\n",
        "import numpy as np\n",
        "\n",
        "acc_per_fold = []\n",
        "loss_per_fold = []\n",
        "\n"
      ],
      "execution_count": null,
      "outputs": []
    },
    {
      "cell_type": "code",
      "metadata": {
        "colab": {
          "base_uri": "https://localhost:8080/"
        },
        "id": "iW_IeJM3Gw5Z",
        "outputId": "b2c82561-e9f8-4729-e453-944a03f8e5cf"
      },
      "source": [
        "IMAGE_SIZE = [299, 299]\n",
        "vgg16 = VGG16(input_shape=IMAGE_SIZE + [3], weights='imagenet', include_top=False)"
      ],
      "execution_count": null,
      "outputs": [
        {
          "output_type": "stream",
          "name": "stdout",
          "text": [
            "Downloading data from https://storage.googleapis.com/tensorflow/keras-applications/vgg16/vgg16_weights_tf_dim_ordering_tf_kernels_notop.h5\n",
            "58892288/58889256 [==============================] - 1s 0us/step\n",
            "58900480/58889256 [==============================] - 1s 0us/step\n"
          ]
        }
      ]
    },
    {
      "cell_type": "code",
      "metadata": {
        "id": "Y1v1yauMG0Zi"
      },
      "source": [
        "for layer in vgg16.layers:\n",
        "    layer.trainable = False"
      ],
      "execution_count": null,
      "outputs": []
    },
    {
      "cell_type": "code",
      "metadata": {
        "id": "SoxXMdXrG4Kq"
      },
      "source": [
        "x = Flatten()(vgg16.output)"
      ],
      "execution_count": null,
      "outputs": []
    },
    {
      "cell_type": "code",
      "metadata": {
        "id": "cr-iG-e1HLEx"
      },
      "source": [
        "prediction = Dense(4, activation='softmax')(x)\n",
        "\n",
        "# create a model object\n",
        "model = Model(inputs=vgg16.input, outputs=prediction)"
      ],
      "execution_count": null,
      "outputs": []
    },
    {
      "cell_type": "code",
      "metadata": {
        "colab": {
          "base_uri": "https://localhost:8080/"
        },
        "id": "P8mtDfUaHREy",
        "outputId": "b9f3adea-bc5a-4777-eb41-e54d537bbe60"
      },
      "source": [
        "model.summary()"
      ],
      "execution_count": null,
      "outputs": [
        {
          "output_type": "stream",
          "name": "stdout",
          "text": [
            "Model: \"model\"\n",
            "_________________________________________________________________\n",
            " Layer (type)                Output Shape              Param #   \n",
            "=================================================================\n",
            " input_1 (InputLayer)        [(None, 299, 299, 3)]     0         \n",
            "                                                                 \n",
            " block1_conv1 (Conv2D)       (None, 299, 299, 64)      1792      \n",
            "                                                                 \n",
            " block1_conv2 (Conv2D)       (None, 299, 299, 64)      36928     \n",
            "                                                                 \n",
            " block1_pool (MaxPooling2D)  (None, 149, 149, 64)      0         \n",
            "                                                                 \n",
            " block2_conv1 (Conv2D)       (None, 149, 149, 128)     73856     \n",
            "                                                                 \n",
            " block2_conv2 (Conv2D)       (None, 149, 149, 128)     147584    \n",
            "                                                                 \n",
            " block2_pool (MaxPooling2D)  (None, 74, 74, 128)       0         \n",
            "                                                                 \n",
            " block3_conv1 (Conv2D)       (None, 74, 74, 256)       295168    \n",
            "                                                                 \n",
            " block3_conv2 (Conv2D)       (None, 74, 74, 256)       590080    \n",
            "                                                                 \n",
            " block3_conv3 (Conv2D)       (None, 74, 74, 256)       590080    \n",
            "                                                                 \n",
            " block3_pool (MaxPooling2D)  (None, 37, 37, 256)       0         \n",
            "                                                                 \n",
            " block4_conv1 (Conv2D)       (None, 37, 37, 512)       1180160   \n",
            "                                                                 \n",
            " block4_conv2 (Conv2D)       (None, 37, 37, 512)       2359808   \n",
            "                                                                 \n",
            " block4_conv3 (Conv2D)       (None, 37, 37, 512)       2359808   \n",
            "                                                                 \n",
            " block4_pool (MaxPooling2D)  (None, 18, 18, 512)       0         \n",
            "                                                                 \n",
            " block5_conv1 (Conv2D)       (None, 18, 18, 512)       2359808   \n",
            "                                                                 \n",
            " block5_conv2 (Conv2D)       (None, 18, 18, 512)       2359808   \n",
            "                                                                 \n",
            " block5_conv3 (Conv2D)       (None, 18, 18, 512)       2359808   \n",
            "                                                                 \n",
            " block5_pool (MaxPooling2D)  (None, 9, 9, 512)         0         \n",
            "                                                                 \n",
            " flatten (Flatten)           (None, 41472)             0         \n",
            "                                                                 \n",
            " dense (Dense)               (None, 4)                 165892    \n",
            "                                                                 \n",
            "=================================================================\n",
            "Total params: 14,880,580\n",
            "Trainable params: 165,892\n",
            "Non-trainable params: 14,714,688\n",
            "_________________________________________________________________\n"
          ]
        }
      ]
    },
    {
      "cell_type": "code",
      "metadata": {
        "id": "lkClDMalHRv5"
      },
      "source": [
        "model.compile(\n",
        "  loss='categorical_crossentropy',\n",
        "  optimizer='adam',\n",
        "  metrics=['accuracy']\n",
        ")"
      ],
      "execution_count": null,
      "outputs": []
    },
    {
      "cell_type": "code",
      "metadata": {
        "colab": {
          "base_uri": "https://localhost:8080/",
          "height": 212
        },
        "id": "QmV0SOr9sg3P",
        "outputId": "7071bd71-67cb-4a1a-e7a9-4e5f5342c1eb"
      },
      "source": [
        "model = KerasClassifier(build_fn=model, epochs=3, batch_size=1, verbose=1) \n",
        "# 3-Fold Crossvalidation\n",
        "kfold = KFold(n_splits=3, shuffle=True, random_state=2019) \n",
        "results = cross_val_score(model, train_gen, train_labels, cv=kfold)"
      ],
      "execution_count": null,
      "outputs": [
        {
          "ename": "NameError",
          "evalue": "ignored",
          "output_type": "error",
          "traceback": [
            "\u001b[0;31m---------------------------------------------------------------------------\u001b[0m",
            "\u001b[0;31mNameError\u001b[0m                                 Traceback (most recent call last)",
            "\u001b[0;32m<ipython-input-1-1ca1f8cdcb7e>\u001b[0m in \u001b[0;36m<module>\u001b[0;34m()\u001b[0m\n\u001b[0;32m----> 1\u001b[0;31m \u001b[0mmodel\u001b[0m \u001b[0;34m=\u001b[0m \u001b[0mKerasClassifier\u001b[0m\u001b[0;34m(\u001b[0m\u001b[0mbuild_fn\u001b[0m\u001b[0;34m=\u001b[0m\u001b[0mmodel\u001b[0m\u001b[0;34m,\u001b[0m \u001b[0mepochs\u001b[0m\u001b[0;34m=\u001b[0m\u001b[0;36m3\u001b[0m\u001b[0;34m,\u001b[0m \u001b[0mbatch_size\u001b[0m\u001b[0;34m=\u001b[0m\u001b[0;36m1\u001b[0m\u001b[0;34m,\u001b[0m \u001b[0mverbose\u001b[0m\u001b[0;34m=\u001b[0m\u001b[0;36m1\u001b[0m\u001b[0;34m)\u001b[0m\u001b[0;34m\u001b[0m\u001b[0;34m\u001b[0m\u001b[0m\n\u001b[0m\u001b[1;32m      2\u001b[0m \u001b[0;31m# 3-Fold Crossvalidation\u001b[0m\u001b[0;34m\u001b[0m\u001b[0;34m\u001b[0m\u001b[0;34m\u001b[0m\u001b[0m\n\u001b[1;32m      3\u001b[0m \u001b[0mkfold\u001b[0m \u001b[0;34m=\u001b[0m \u001b[0mKFold\u001b[0m\u001b[0;34m(\u001b[0m\u001b[0mn_splits\u001b[0m\u001b[0;34m=\u001b[0m\u001b[0;36m3\u001b[0m\u001b[0;34m,\u001b[0m \u001b[0mshuffle\u001b[0m\u001b[0;34m=\u001b[0m\u001b[0;32mTrue\u001b[0m\u001b[0;34m,\u001b[0m \u001b[0mrandom_state\u001b[0m\u001b[0;34m=\u001b[0m\u001b[0;36m2019\u001b[0m\u001b[0;34m)\u001b[0m\u001b[0;34m\u001b[0m\u001b[0;34m\u001b[0m\u001b[0m\n\u001b[1;32m      4\u001b[0m \u001b[0mresults\u001b[0m \u001b[0;34m=\u001b[0m \u001b[0mcross_val_score\u001b[0m\u001b[0;34m(\u001b[0m\u001b[0mmodel\u001b[0m\u001b[0;34m,\u001b[0m \u001b[0mtrain_gen\u001b[0m\u001b[0;34m,\u001b[0m \u001b[0mtrain_labels\u001b[0m\u001b[0;34m,\u001b[0m \u001b[0mcv\u001b[0m\u001b[0;34m=\u001b[0m\u001b[0mkfold\u001b[0m\u001b[0;34m)\u001b[0m\u001b[0;34m\u001b[0m\u001b[0;34m\u001b[0m\u001b[0m\n",
            "\u001b[0;31mNameError\u001b[0m: name 'KerasClassifier' is not defined"
          ]
        }
      ]
    },
    {
      "cell_type": "code",
      "metadata": {
        "colab": {
          "base_uri": "https://localhost:8080/"
        },
        "id": "yziY6sgAHYuX",
        "outputId": "f631acac-5684-44fa-e152-6f11f079ae57"
      },
      "source": [
        "# fit the model\n",
        "# Run the cell. It will take some time to execute\n",
        "r = model.fit_generator(\n",
        "  train_gen,\n",
        "  validation_data=test_gen,\n",
        "  epochs=10,\n",
        "  steps_per_epoch=len(train_gen),\n",
        "  validation_steps=len(test_gen)\n",
        ")"
      ],
      "execution_count": null,
      "outputs": [
        {
          "output_type": "stream",
          "name": "stdout",
          "text": [
            "Epoch 1/10\n",
            "2114/2114 [==============================] - 1419s 653ms/step - loss: 0.7509 - accuracy: 0.7512 - val_loss: 0.5278 - val_accuracy: 0.8319\n",
            "Epoch 2/10\n",
            "2114/2114 [==============================] - 1366s 646ms/step - loss: 0.6986 - accuracy: 0.7995 - val_loss: 0.5627 - val_accuracy: 0.8232\n",
            "Epoch 3/10\n",
            "2114/2114 [==============================] - 1364s 645ms/step - loss: 0.6508 - accuracy: 0.8239 - val_loss: 0.6769 - val_accuracy: 0.8264\n",
            "Epoch 4/10\n",
            "2114/2114 [==============================] - 1340s 634ms/step - loss: 0.6547 - accuracy: 0.8271 - val_loss: 0.5982 - val_accuracy: 0.8416\n",
            "Epoch 5/10\n",
            "2114/2114 [==============================] - 1350s 639ms/step - loss: 0.6445 - accuracy: 0.8338 - val_loss: 0.9370 - val_accuracy: 0.7664\n",
            "Epoch 6/10\n",
            "2114/2114 [==============================] - 1368s 647ms/step - loss: 0.6537 - accuracy: 0.8365 - val_loss: 0.6494 - val_accuracy: 0.8573\n",
            "Epoch 7/10\n",
            "2114/2114 [==============================] - 1363s 645ms/step - loss: 0.6479 - accuracy: 0.8441 - val_loss: 0.5366 - val_accuracy: 0.8636\n",
            "Epoch 8/10\n",
            "2114/2114 [==============================] - 1374s 650ms/step - loss: 0.6636 - accuracy: 0.8427 - val_loss: 1.1814 - val_accuracy: 0.7751\n",
            "Epoch 9/10\n",
            "2114/2114 [==============================] - ETA: 0s - loss: 0.6117 - accuracy: 0.8520"
          ]
        }
      ]
    },
    {
      "cell_type": "code",
      "metadata": {
        "id": "DOtjk7unhYc_"
      },
      "source": [
        "preds = model.predict(test_gen)\n",
        "\n",
        "preds_list = []\n",
        "y_pred = np.argmax(preds, axis=1)"
      ],
      "execution_count": null,
      "outputs": []
    },
    {
      "cell_type": "code",
      "metadata": {
        "colab": {
          "base_uri": "https://localhost:8080/",
          "height": 277
        },
        "id": "Pt_rYEEzwWKk",
        "outputId": "6db6afc7-b7bf-4b0e-f63f-aa45ebea4293"
      },
      "source": [
        "from sklearn.metrics import classification_report, confusion_matrix, accuracy_score, recall_score, f1_score, precision_score\n",
        "import seaborn as sns\n",
        "cm=confusion_matrix(test_gen.classes, y_pred)\n",
        "sns.heatmap(cm, annot=True, fmt='g', cmap='Blues')\n",
        "plt.xlabel('Predicted')\n",
        "plt.ylabel('True Label')\n",
        "plt.show()"
      ],
      "execution_count": null,
      "outputs": [
        {
          "data": {
            "image/png": "[encoded data removed]",
            "text/plain": [
              "<Figure size 432x288 with 2 Axes>"
            ]
          },
          "metadata": {},
          "output_type": "display_data"
        }
      ]
    },
    {
      "cell_type": "code",
      "metadata": {
        "id": "BUF4DeVlGg41"
      },
      "source": [
        "from tensorflow.keras.layers import Input, Lambda, Dense, Flatten\n",
        "from tensorflow.keras.models import Model\n",
        "from tensorflow.keras.applications.vgg16 import VGG16\n",
        "from tensorflow.keras.applications.vgg19 import VGG19\n",
        "from tensorflow.keras.preprocessing import image\n",
        "from tensorflow.keras.preprocessing.image import ImageDataGenerator,load_img\n",
        "from tensorflow.keras.models import Sequential\n",
        "import numpy as np\n",
        "from glob import glob\n",
        "#import matplotlib.pyplot as plt"
      ],
      "execution_count": null,
      "outputs": []
    },
    {
      "cell_type": "code",
      "metadata": {
        "colab": {
          "base_uri": "https://localhost:8080/"
        },
        "id": "fmmVJq_Dw_ft",
        "outputId": "ee93056e-4dda-4874-9751-33d1a2350fea"
      },
      "source": [
        "from google.colab import drive\n",
        "drive.mount('/content/gdrive')"
      ],
      "execution_count": null,
      "outputs": [
        {
          "output_type": "stream",
          "name": "stdout",
          "text": [
            "Mounted at /content/gdrive\n"
          ]
        }
      ]
    },
    {
      "cell_type": "code",
      "metadata": {
        "colab": {
          "base_uri": "https://localhost:8080/"
        },
        "id": "nvZvtXYIS5f1",
        "outputId": "29dba812-5797-4652-9bba-84b05a3137a8"
      },
      "source": [
        "!pip install unrar"
      ],
      "execution_count": null,
      "outputs": [
        {
          "output_type": "stream",
          "name": "stdout",
          "text": [
            "Collecting unrar\n",
            "  Downloading unrar-0.4-py3-none-any.whl (25 kB)\n",
            "Installing collected packages: unrar\n",
            "Successfully installed unrar-0.4\n"
          ]
        }
      ]
    },
    {
      "cell_type": "code",
      "metadata": {
        "colab": {
          "base_uri": "https://localhost:8080/"
        },
        "id": "n0nU6TdFVwAV",
        "outputId": "27dcd413-1582-415a-81c5-acb7be5dbd58"
      },
      "source": [
        "!unrar x '/content/gdrive/MyDrive/boneage.rar'"
      ],
      "execution_count": 1,
      "outputs": [
        {
          "output_type": "stream",
          "name": "stdout",
          "text": [
            "\n",
            "UNRAR 5.50 freeware      Copyright (c) 1993-2017 Alexander Roshal\n",
            "\n",
            "Cannot open /content/gdrive/MyDrive/boneage.rar\n",
            "No such file or directory\n",
            "No files to extract\n"
          ]
        }
      ]
    }
  ]
}